{
 "metadata": {
  "language_info": {
   "codemirror_mode": {
    "name": "ipython",
    "version": 3
   },
   "file_extension": ".py",
   "mimetype": "text/x-python",
   "name": "python",
   "nbconvert_exporter": "python",
   "pygments_lexer": "ipython3",
   "version": "3.8.5-final"
  },
  "orig_nbformat": 2,
  "kernelspec": {
   "name": "python3",
   "display_name": "Python 3.8.5 64-bit (conda)",
   "metadata": {
    "interpreter": {
     "hash": "7130e50905e36ee8ba984bf5d604d4bdfc948a4bc02e9dfef431241a80ea1f4f"
    }
   }
  }
 },
 "nbformat": 4,
 "nbformat_minor": 2,
 "cells": [
  {
   "cell_type": "code",
   "execution_count": 72,
   "metadata": {
    "tags": []
   },
   "outputs": [],
   "source": [
    "import os\n",
    "import json\n",
    "import pandas as pd\n",
    "from pandas.io.json import json_normalize\n",
    "from datetime import datetime"
   ]
  },
  {
   "cell_type": "code",
   "execution_count": 73,
   "metadata": {},
   "outputs": [
    {
     "output_type": "execute_result",
     "data": {
      "text/plain": [
       "['github_api/111online_repos.json',\n",
       " 'github_api/nhsconnect_repos.json',\n",
       " 'github_api/nhsdigital_repos.json',\n",
       " 'github_api/nhsengland_repos.json',\n",
       " 'github_api/nhsuk_repos.json',\n",
       " 'github_api/nhsx_repos.json']"
      ]
     },
     "metadata": {},
     "execution_count": 73
    }
   ],
   "source": [
    "path = \"github_api/\"\n",
    "my_filenames = [\n",
    "    os.path.join(root, name)\n",
    "    for root, dirs, files in os.walk(path)\n",
    "    for name in files\n",
    "    if name.endswith((\".json\"))\n",
    "]\n",
    "my_filenames"
   ]
  },
  {
   "cell_type": "code",
   "execution_count": 74,
   "metadata": {},
   "outputs": [
    {
     "output_type": "stream",
     "name": "stdout",
     "text": [
      "2021-03-04 10:24:50\n"
     ]
    }
   ],
   "source": [
    "# last modified datex\n",
    "time_stamp = os.path.getmtime(my_filenames[0])\n",
    "mod_date = datetime.fromtimestamp(time_stamp).strftime(\"%Y-%m-%d %H:%M:%S\")\n",
    "print(mod_date)"
   ]
  },
  {
   "cell_type": "code",
   "execution_count": 75,
   "metadata": {},
   "outputs": [],
   "source": [
    "with open('github_api/nhsx_repos.json') as f:\n",
    "  data = json.load(f)"
   ]
  },
  {
   "cell_type": "code",
   "execution_count": 76,
   "metadata": {},
   "outputs": [
    {
     "output_type": "execute_result",
     "data": {
      "text/plain": [
       "          id                           node_id                     name  \\\n",
       "0  177147975  MDEwOlJlcG9zaXRvcnkxNzcxNDc5NzU=           nhsx-prototype   \n",
       "1  178217860  MDEwOlJlcG9zaXRvcnkxNzgyMTc4NjA=         old-nhsx-website   \n",
       "2  189214616  MDEwOlJlcG9zaXRvcnkxODkyMTQ2MTY=  open-source-fhir-server   \n",
       "3  193096724  MDEwOlJlcG9zaXRvcnkxOTMwOTY3MjQ=             nhsalexahack   \n",
       "4  193874492  MDEwOlJlcG9zaXRvcnkxOTM4NzQ0OTI=        algorithm-library   \n",
       "\n",
       "                      full_name  private  \\\n",
       "0           nhsx/nhsx-prototype    False   \n",
       "1         nhsx/old-nhsx-website    False   \n",
       "2  nhsx/open-source-fhir-server    False   \n",
       "3             nhsx/nhsalexahack    False   \n",
       "4        nhsx/algorithm-library    False   \n",
       "\n",
       "                                          html_url  \\\n",
       "0           https://github.com/nhsx/nhsx-prototype   \n",
       "1         https://github.com/nhsx/old-nhsx-website   \n",
       "2  https://github.com/nhsx/open-source-fhir-server   \n",
       "3             https://github.com/nhsx/nhsalexahack   \n",
       "4        https://github.com/nhsx/algorithm-library   \n",
       "\n",
       "                                         description   fork  \\\n",
       "0             Design prototypes for the NHSX website  False   \n",
       "1  :warning: This repository has been deprecated ...  False   \n",
       "2                            Open source fhir server  False   \n",
       "3                                               None   True   \n",
       "4  A curated list of algorithms and datasets. All...  False   \n",
       "\n",
       "                                                 url  \\\n",
       "0   https://api.github.com/repos/nhsx/nhsx-prototype   \n",
       "1  https://api.github.com/repos/nhsx/old-nhsx-web...   \n",
       "2  https://api.github.com/repos/nhsx/open-source-...   \n",
       "3     https://api.github.com/repos/nhsx/nhsalexahack   \n",
       "4  https://api.github.com/repos/nhsx/algorithm-li...   \n",
       "\n",
       "                                           forks_url  ... owner.site_admin  \\\n",
       "0  https://api.github.com/repos/nhsx/nhsx-prototy...  ...            False   \n",
       "1  https://api.github.com/repos/nhsx/old-nhsx-web...  ...            False   \n",
       "2  https://api.github.com/repos/nhsx/open-source-...  ...            False   \n",
       "3  https://api.github.com/repos/nhsx/nhsalexahack...  ...            False   \n",
       "4  https://api.github.com/repos/nhsx/algorithm-li...  ...            False   \n",
       "\n",
       "  license.key license.name license.spdx_id  \\\n",
       "0         mit  MIT License             MIT   \n",
       "1         mit  MIT License             MIT   \n",
       "2         mit  MIT License             MIT   \n",
       "3         NaN          NaN             NaN   \n",
       "4         mit  MIT License             MIT   \n",
       "\n",
       "                           license.url   license.node_id permissions.admin  \\\n",
       "0  https://api.github.com/licenses/mit  MDc6TGljZW5zZTEz             False   \n",
       "1  https://api.github.com/licenses/mit  MDc6TGljZW5zZTEz             False   \n",
       "2  https://api.github.com/licenses/mit  MDc6TGljZW5zZTEz             False   \n",
       "3                                  NaN               NaN             False   \n",
       "4  https://api.github.com/licenses/mit  MDc6TGljZW5zZTEz             False   \n",
       "\n",
       "  permissions.push permissions.pull license  \n",
       "0            False             True     NaN  \n",
       "1            False             True     NaN  \n",
       "2            False             True     NaN  \n",
       "3            False             True     NaN  \n",
       "4            False             True     NaN  \n",
       "\n",
       "[5 rows x 98 columns]"
      ],
      "text/html": "<div>\n<style scoped>\n    .dataframe tbody tr th:only-of-type {\n        vertical-align: middle;\n    }\n\n    .dataframe tbody tr th {\n        vertical-align: top;\n    }\n\n    .dataframe thead th {\n        text-align: right;\n    }\n</style>\n<table border=\"1\" class=\"dataframe\">\n  <thead>\n    <tr style=\"text-align: right;\">\n      <th></th>\n      <th>id</th>\n      <th>node_id</th>\n      <th>name</th>\n      <th>full_name</th>\n      <th>private</th>\n      <th>html_url</th>\n      <th>description</th>\n      <th>fork</th>\n      <th>url</th>\n      <th>forks_url</th>\n      <th>...</th>\n      <th>owner.site_admin</th>\n      <th>license.key</th>\n      <th>license.name</th>\n      <th>license.spdx_id</th>\n      <th>license.url</th>\n      <th>license.node_id</th>\n      <th>permissions.admin</th>\n      <th>permissions.push</th>\n      <th>permissions.pull</th>\n      <th>license</th>\n    </tr>\n  </thead>\n  <tbody>\n    <tr>\n      <th>0</th>\n      <td>177147975</td>\n      <td>MDEwOlJlcG9zaXRvcnkxNzcxNDc5NzU=</td>\n      <td>nhsx-prototype</td>\n      <td>nhsx/nhsx-prototype</td>\n      <td>False</td>\n      <td>https://github.com/nhsx/nhsx-prototype</td>\n      <td>Design prototypes for the NHSX website</td>\n      <td>False</td>\n      <td>https://api.github.com/repos/nhsx/nhsx-prototype</td>\n      <td>https://api.github.com/repos/nhsx/nhsx-prototy...</td>\n      <td>...</td>\n      <td>False</td>\n      <td>mit</td>\n      <td>MIT License</td>\n      <td>MIT</td>\n      <td>https://api.github.com/licenses/mit</td>\n      <td>MDc6TGljZW5zZTEz</td>\n      <td>False</td>\n      <td>False</td>\n      <td>True</td>\n      <td>NaN</td>\n    </tr>\n    <tr>\n      <th>1</th>\n      <td>178217860</td>\n      <td>MDEwOlJlcG9zaXRvcnkxNzgyMTc4NjA=</td>\n      <td>old-nhsx-website</td>\n      <td>nhsx/old-nhsx-website</td>\n      <td>False</td>\n      <td>https://github.com/nhsx/old-nhsx-website</td>\n      <td>:warning: This repository has been deprecated ...</td>\n      <td>False</td>\n      <td>https://api.github.com/repos/nhsx/old-nhsx-web...</td>\n      <td>https://api.github.com/repos/nhsx/old-nhsx-web...</td>\n      <td>...</td>\n      <td>False</td>\n      <td>mit</td>\n      <td>MIT License</td>\n      <td>MIT</td>\n      <td>https://api.github.com/licenses/mit</td>\n      <td>MDc6TGljZW5zZTEz</td>\n      <td>False</td>\n      <td>False</td>\n      <td>True</td>\n      <td>NaN</td>\n    </tr>\n    <tr>\n      <th>2</th>\n      <td>189214616</td>\n      <td>MDEwOlJlcG9zaXRvcnkxODkyMTQ2MTY=</td>\n      <td>open-source-fhir-server</td>\n      <td>nhsx/open-source-fhir-server</td>\n      <td>False</td>\n      <td>https://github.com/nhsx/open-source-fhir-server</td>\n      <td>Open source fhir server</td>\n      <td>False</td>\n      <td>https://api.github.com/repos/nhsx/open-source-...</td>\n      <td>https://api.github.com/repos/nhsx/open-source-...</td>\n      <td>...</td>\n      <td>False</td>\n      <td>mit</td>\n      <td>MIT License</td>\n      <td>MIT</td>\n      <td>https://api.github.com/licenses/mit</td>\n      <td>MDc6TGljZW5zZTEz</td>\n      <td>False</td>\n      <td>False</td>\n      <td>True</td>\n      <td>NaN</td>\n    </tr>\n    <tr>\n      <th>3</th>\n      <td>193096724</td>\n      <td>MDEwOlJlcG9zaXRvcnkxOTMwOTY3MjQ=</td>\n      <td>nhsalexahack</td>\n      <td>nhsx/nhsalexahack</td>\n      <td>False</td>\n      <td>https://github.com/nhsx/nhsalexahack</td>\n      <td>None</td>\n      <td>True</td>\n      <td>https://api.github.com/repos/nhsx/nhsalexahack</td>\n      <td>https://api.github.com/repos/nhsx/nhsalexahack...</td>\n      <td>...</td>\n      <td>False</td>\n      <td>NaN</td>\n      <td>NaN</td>\n      <td>NaN</td>\n      <td>NaN</td>\n      <td>NaN</td>\n      <td>False</td>\n      <td>False</td>\n      <td>True</td>\n      <td>NaN</td>\n    </tr>\n    <tr>\n      <th>4</th>\n      <td>193874492</td>\n      <td>MDEwOlJlcG9zaXRvcnkxOTM4NzQ0OTI=</td>\n      <td>algorithm-library</td>\n      <td>nhsx/algorithm-library</td>\n      <td>False</td>\n      <td>https://github.com/nhsx/algorithm-library</td>\n      <td>A curated list of algorithms and datasets. All...</td>\n      <td>False</td>\n      <td>https://api.github.com/repos/nhsx/algorithm-li...</td>\n      <td>https://api.github.com/repos/nhsx/algorithm-li...</td>\n      <td>...</td>\n      <td>False</td>\n      <td>mit</td>\n      <td>MIT License</td>\n      <td>MIT</td>\n      <td>https://api.github.com/licenses/mit</td>\n      <td>MDc6TGljZW5zZTEz</td>\n      <td>False</td>\n      <td>False</td>\n      <td>True</td>\n      <td>NaN</td>\n    </tr>\n  </tbody>\n</table>\n<p>5 rows × 98 columns</p>\n</div>"
     },
     "metadata": {},
     "execution_count": 76
    }
   ],
   "source": [
    "from pandas.io.json import json_normalize\n",
    "flat_data = json_normalize(data)\n",
    "flat_data\n",
    "flat_data.assign(date = mod_date)\n",
    "flat_data.head()"
   ]
  },
  {
   "cell_type": "code",
   "execution_count": 77,
   "metadata": {},
   "outputs": [
    {
     "output_type": "execute_result",
     "data": {
      "text/plain": [
       "          id                           node_id                        name  \\\n",
       "0  138751264  MDEwOlJlcG9zaXRvcnkxMzg3NTEyNjQ=  nhs111-implementation-site   \n",
       "1  138753441  MDEwOlJlcG9zaXRvcnkxMzg3NTM0NDE=                   web-stack   \n",
       "2  206048937  MDEwOlJlcG9zaXRvcnkyMDYwNDg5Mzc=       nhs111-domain-dos-api   \n",
       "3  206102072  MDEwOlJlcG9zaXRvcnkyMDYxMDIwNzI=   nhs111-itk-dispatcher-api   \n",
       "4  209029513  MDEwOlJlcG9zaXRvcnkyMDkwMjk1MTM=         nhs111-feedback-api   \n",
       "\n",
       "                              full_name  private  \\\n",
       "0  111Online/nhs111-implementation-site    False   \n",
       "1                   111Online/web-stack    False   \n",
       "2       111Online/nhs111-domain-dos-api    False   \n",
       "3   111Online/nhs111-itk-dispatcher-api    False   \n",
       "4         111Online/nhs111-feedback-api    False   \n",
       "\n",
       "                                            html_url  \\\n",
       "0  https://github.com/111Online/nhs111-implementa...   \n",
       "1             https://github.com/111Online/web-stack   \n",
       "2  https://github.com/111Online/nhs111-domain-dos...   \n",
       "3  https://github.com/111Online/nhs111-itk-dispat...   \n",
       "4   https://github.com/111Online/nhs111-feedback-api   \n",
       "\n",
       "                          description   fork  \\\n",
       "0  Implementation site for 111 online  False   \n",
       "1              NHS 111 Online Product  False   \n",
       "2                                None  False   \n",
       "3                                None  False   \n",
       "4                                None  False   \n",
       "\n",
       "                                                 url  \\\n",
       "0  https://api.github.com/repos/111Online/nhs111-...   \n",
       "1   https://api.github.com/repos/111Online/web-stack   \n",
       "2  https://api.github.com/repos/111Online/nhs111-...   \n",
       "3  https://api.github.com/repos/111Online/nhs111-...   \n",
       "4  https://api.github.com/repos/111Online/nhs111-...   \n",
       "\n",
       "                                           forks_url  ... permissions_admin  \\\n",
       "0  https://api.github.com/repos/111Online/nhs111-...  ...             False   \n",
       "1  https://api.github.com/repos/111Online/web-sta...  ...             False   \n",
       "2  https://api.github.com/repos/111Online/nhs111-...  ...             False   \n",
       "3  https://api.github.com/repos/111Online/nhs111-...  ...             False   \n",
       "4  https://api.github.com/repos/111Online/nhs111-...  ...             False   \n",
       "\n",
       "  permissions_push permissions_pull license_key        license_name  \\\n",
       "0            False             True         NaN                 NaN   \n",
       "1            False             True  apache-2.0  Apache License 2.0   \n",
       "2            False             True  apache-2.0  Apache License 2.0   \n",
       "3            False             True  apache-2.0  Apache License 2.0   \n",
       "4            False             True  apache-2.0  Apache License 2.0   \n",
       "\n",
       "  license_spdx_id                                 license_url  \\\n",
       "0             NaN                                         NaN   \n",
       "1      Apache-2.0  https://api.github.com/licenses/apache-2.0   \n",
       "2      Apache-2.0  https://api.github.com/licenses/apache-2.0   \n",
       "3      Apache-2.0  https://api.github.com/licenses/apache-2.0   \n",
       "4      Apache-2.0  https://api.github.com/licenses/apache-2.0   \n",
       "\n",
       "    license_node_id                        file_name            file_date  \n",
       "0               NaN  github_api/111online_repos.json  2021-03-04 10:24:50  \n",
       "1  MDc6TGljZW5zZTI=  github_api/111online_repos.json  2021-03-04 10:24:50  \n",
       "2  MDc6TGljZW5zZTI=  github_api/111online_repos.json  2021-03-04 10:24:50  \n",
       "3  MDc6TGljZW5zZTI=  github_api/111online_repos.json  2021-03-04 10:24:50  \n",
       "4  MDc6TGljZW5zZTI=  github_api/111online_repos.json  2021-03-04 10:24:50  \n",
       "\n",
       "[5 rows x 100 columns]"
      ],
      "text/html": "<div>\n<style scoped>\n    .dataframe tbody tr th:only-of-type {\n        vertical-align: middle;\n    }\n\n    .dataframe tbody tr th {\n        vertical-align: top;\n    }\n\n    .dataframe thead th {\n        text-align: right;\n    }\n</style>\n<table border=\"1\" class=\"dataframe\">\n  <thead>\n    <tr style=\"text-align: right;\">\n      <th></th>\n      <th>id</th>\n      <th>node_id</th>\n      <th>name</th>\n      <th>full_name</th>\n      <th>private</th>\n      <th>html_url</th>\n      <th>description</th>\n      <th>fork</th>\n      <th>url</th>\n      <th>forks_url</th>\n      <th>...</th>\n      <th>permissions_admin</th>\n      <th>permissions_push</th>\n      <th>permissions_pull</th>\n      <th>license_key</th>\n      <th>license_name</th>\n      <th>license_spdx_id</th>\n      <th>license_url</th>\n      <th>license_node_id</th>\n      <th>file_name</th>\n      <th>file_date</th>\n    </tr>\n  </thead>\n  <tbody>\n    <tr>\n      <th>0</th>\n      <td>138751264</td>\n      <td>MDEwOlJlcG9zaXRvcnkxMzg3NTEyNjQ=</td>\n      <td>nhs111-implementation-site</td>\n      <td>111Online/nhs111-implementation-site</td>\n      <td>False</td>\n      <td>https://github.com/111Online/nhs111-implementa...</td>\n      <td>Implementation site for 111 online</td>\n      <td>False</td>\n      <td>https://api.github.com/repos/111Online/nhs111-...</td>\n      <td>https://api.github.com/repos/111Online/nhs111-...</td>\n      <td>...</td>\n      <td>False</td>\n      <td>False</td>\n      <td>True</td>\n      <td>NaN</td>\n      <td>NaN</td>\n      <td>NaN</td>\n      <td>NaN</td>\n      <td>NaN</td>\n      <td>github_api/111online_repos.json</td>\n      <td>2021-03-04 10:24:50</td>\n    </tr>\n    <tr>\n      <th>1</th>\n      <td>138753441</td>\n      <td>MDEwOlJlcG9zaXRvcnkxMzg3NTM0NDE=</td>\n      <td>web-stack</td>\n      <td>111Online/web-stack</td>\n      <td>False</td>\n      <td>https://github.com/111Online/web-stack</td>\n      <td>NHS 111 Online Product</td>\n      <td>False</td>\n      <td>https://api.github.com/repos/111Online/web-stack</td>\n      <td>https://api.github.com/repos/111Online/web-sta...</td>\n      <td>...</td>\n      <td>False</td>\n      <td>False</td>\n      <td>True</td>\n      <td>apache-2.0</td>\n      <td>Apache License 2.0</td>\n      <td>Apache-2.0</td>\n      <td>https://api.github.com/licenses/apache-2.0</td>\n      <td>MDc6TGljZW5zZTI=</td>\n      <td>github_api/111online_repos.json</td>\n      <td>2021-03-04 10:24:50</td>\n    </tr>\n    <tr>\n      <th>2</th>\n      <td>206048937</td>\n      <td>MDEwOlJlcG9zaXRvcnkyMDYwNDg5Mzc=</td>\n      <td>nhs111-domain-dos-api</td>\n      <td>111Online/nhs111-domain-dos-api</td>\n      <td>False</td>\n      <td>https://github.com/111Online/nhs111-domain-dos...</td>\n      <td>None</td>\n      <td>False</td>\n      <td>https://api.github.com/repos/111Online/nhs111-...</td>\n      <td>https://api.github.com/repos/111Online/nhs111-...</td>\n      <td>...</td>\n      <td>False</td>\n      <td>False</td>\n      <td>True</td>\n      <td>apache-2.0</td>\n      <td>Apache License 2.0</td>\n      <td>Apache-2.0</td>\n      <td>https://api.github.com/licenses/apache-2.0</td>\n      <td>MDc6TGljZW5zZTI=</td>\n      <td>github_api/111online_repos.json</td>\n      <td>2021-03-04 10:24:50</td>\n    </tr>\n    <tr>\n      <th>3</th>\n      <td>206102072</td>\n      <td>MDEwOlJlcG9zaXRvcnkyMDYxMDIwNzI=</td>\n      <td>nhs111-itk-dispatcher-api</td>\n      <td>111Online/nhs111-itk-dispatcher-api</td>\n      <td>False</td>\n      <td>https://github.com/111Online/nhs111-itk-dispat...</td>\n      <td>None</td>\n      <td>False</td>\n      <td>https://api.github.com/repos/111Online/nhs111-...</td>\n      <td>https://api.github.com/repos/111Online/nhs111-...</td>\n      <td>...</td>\n      <td>False</td>\n      <td>False</td>\n      <td>True</td>\n      <td>apache-2.0</td>\n      <td>Apache License 2.0</td>\n      <td>Apache-2.0</td>\n      <td>https://api.github.com/licenses/apache-2.0</td>\n      <td>MDc6TGljZW5zZTI=</td>\n      <td>github_api/111online_repos.json</td>\n      <td>2021-03-04 10:24:50</td>\n    </tr>\n    <tr>\n      <th>4</th>\n      <td>209029513</td>\n      <td>MDEwOlJlcG9zaXRvcnkyMDkwMjk1MTM=</td>\n      <td>nhs111-feedback-api</td>\n      <td>111Online/nhs111-feedback-api</td>\n      <td>False</td>\n      <td>https://github.com/111Online/nhs111-feedback-api</td>\n      <td>None</td>\n      <td>False</td>\n      <td>https://api.github.com/repos/111Online/nhs111-...</td>\n      <td>https://api.github.com/repos/111Online/nhs111-...</td>\n      <td>...</td>\n      <td>False</td>\n      <td>False</td>\n      <td>True</td>\n      <td>apache-2.0</td>\n      <td>Apache License 2.0</td>\n      <td>Apache-2.0</td>\n      <td>https://api.github.com/licenses/apache-2.0</td>\n      <td>MDc6TGljZW5zZTI=</td>\n      <td>github_api/111online_repos.json</td>\n      <td>2021-03-04 10:24:50</td>\n    </tr>\n  </tbody>\n</table>\n<p>5 rows × 100 columns</p>\n</div>"
     },
     "metadata": {},
     "execution_count": 77
    }
   ],
   "source": [
    "df = pd.DataFrame()\n",
    "for filename in my_filenames:\n",
    "    with open(filename) as f:\n",
    "        data = json.load(f)\n",
    "    flat_data = json_normalize(data)\n",
    "    extract_date = datetime.fromtimestamp(os.path.getmtime(filename)).strftime(\"%Y-%m-%d %H:%M:%S\")\n",
    "    flat_data = flat_data.assign(file_name = filename)\n",
    "    flat_data = flat_data.assign(file_date = extract_date)\n",
    "    df = df.append(flat_data)\n",
    "df.columns = df.columns.str.replace('.', '_')\n",
    "df.head()"
   ]
  },
  {
   "cell_type": "code",
   "execution_count": 78,
   "metadata": {},
   "outputs": [
    {
     "output_type": "error",
     "ename": "PermissionError",
     "evalue": "[Errno 13] Permission denied: 'data/github-api-output_2021-03-04.csv'",
     "traceback": [
      "\u001b[1;31m---------------------------------------------------------------------------\u001b[0m",
      "\u001b[1;31mPermissionError\u001b[0m                           Traceback (most recent call last)",
      "\u001b[1;32m<ipython-input-78-412b4cc2be6f>\u001b[0m in \u001b[0;36m<module>\u001b[1;34m\u001b[0m\n\u001b[0;32m      1\u001b[0m \u001b[0mfile_date\u001b[0m \u001b[1;33m=\u001b[0m \u001b[0mdatetime\u001b[0m\u001b[1;33m.\u001b[0m\u001b[0mfromtimestamp\u001b[0m\u001b[1;33m(\u001b[0m\u001b[0mos\u001b[0m\u001b[1;33m.\u001b[0m\u001b[0mpath\u001b[0m\u001b[1;33m.\u001b[0m\u001b[0mgetmtime\u001b[0m\u001b[1;33m(\u001b[0m\u001b[0mfilename\u001b[0m\u001b[1;33m)\u001b[0m\u001b[1;33m)\u001b[0m\u001b[1;33m.\u001b[0m\u001b[0mstrftime\u001b[0m\u001b[1;33m(\u001b[0m\u001b[1;34m\"%Y-%m-%d\"\u001b[0m\u001b[1;33m)\u001b[0m\u001b[1;33m\u001b[0m\u001b[1;33m\u001b[0m\u001b[0m\n\u001b[1;32m----> 2\u001b[1;33m \u001b[0mdf\u001b[0m\u001b[1;33m.\u001b[0m\u001b[0mto_csv\u001b[0m\u001b[1;33m(\u001b[0m\u001b[1;34mr'data/github-api-output_'\u001b[0m\u001b[1;33m+\u001b[0m\u001b[0mfile_date\u001b[0m\u001b[1;33m+\u001b[0m\u001b[1;34m'.csv'\u001b[0m\u001b[1;33m)\u001b[0m\u001b[1;33m\u001b[0m\u001b[1;33m\u001b[0m\u001b[0m\n\u001b[0m",
      "\u001b[1;32mC:\\Program Files\\Alteryx\\bin\\Miniconda3\\envs\\MachineLearningTools_venv\\lib\\site-packages\\pandas\\core\\generic.py\u001b[0m in \u001b[0;36mto_csv\u001b[1;34m(self, path_or_buf, sep, na_rep, float_format, columns, header, index, index_label, mode, encoding, compression, quoting, quotechar, line_terminator, chunksize, date_format, doublequote, escapechar, decimal, errors)\u001b[0m\n\u001b[0;32m   3165\u001b[0m             \u001b[0mdecimal\u001b[0m\u001b[1;33m=\u001b[0m\u001b[0mdecimal\u001b[0m\u001b[1;33m,\u001b[0m\u001b[1;33m\u001b[0m\u001b[1;33m\u001b[0m\u001b[0m\n\u001b[0;32m   3166\u001b[0m         )\n\u001b[1;32m-> 3167\u001b[1;33m         \u001b[0mformatter\u001b[0m\u001b[1;33m.\u001b[0m\u001b[0msave\u001b[0m\u001b[1;33m(\u001b[0m\u001b[1;33m)\u001b[0m\u001b[1;33m\u001b[0m\u001b[1;33m\u001b[0m\u001b[0m\n\u001b[0m\u001b[0;32m   3168\u001b[0m \u001b[1;33m\u001b[0m\u001b[0m\n\u001b[0;32m   3169\u001b[0m         \u001b[1;32mif\u001b[0m \u001b[0mpath_or_buf\u001b[0m \u001b[1;32mis\u001b[0m \u001b[1;32mNone\u001b[0m\u001b[1;33m:\u001b[0m\u001b[1;33m\u001b[0m\u001b[1;33m\u001b[0m\u001b[0m\n",
      "\u001b[1;32mC:\\Program Files\\Alteryx\\bin\\Miniconda3\\envs\\MachineLearningTools_venv\\lib\\site-packages\\pandas\\io\\formats\\csvs.py\u001b[0m in \u001b[0;36msave\u001b[1;34m(self)\u001b[0m\n\u001b[0;32m    183\u001b[0m             \u001b[0mclose\u001b[0m \u001b[1;33m=\u001b[0m \u001b[1;32mFalse\u001b[0m\u001b[1;33m\u001b[0m\u001b[1;33m\u001b[0m\u001b[0m\n\u001b[0;32m    184\u001b[0m         \u001b[1;32melse\u001b[0m\u001b[1;33m:\u001b[0m\u001b[1;33m\u001b[0m\u001b[1;33m\u001b[0m\u001b[0m\n\u001b[1;32m--> 185\u001b[1;33m             f, handles = get_handle(\n\u001b[0m\u001b[0;32m    186\u001b[0m                 \u001b[0mself\u001b[0m\u001b[1;33m.\u001b[0m\u001b[0mpath_or_buf\u001b[0m\u001b[1;33m,\u001b[0m\u001b[1;33m\u001b[0m\u001b[1;33m\u001b[0m\u001b[0m\n\u001b[0;32m    187\u001b[0m                 \u001b[0mself\u001b[0m\u001b[1;33m.\u001b[0m\u001b[0mmode\u001b[0m\u001b[1;33m,\u001b[0m\u001b[1;33m\u001b[0m\u001b[1;33m\u001b[0m\u001b[0m\n",
      "\u001b[1;32mC:\\Program Files\\Alteryx\\bin\\Miniconda3\\envs\\MachineLearningTools_venv\\lib\\site-packages\\pandas\\io\\common.py\u001b[0m in \u001b[0;36mget_handle\u001b[1;34m(path_or_buf, mode, encoding, compression, memory_map, is_text, errors)\u001b[0m\n\u001b[0;32m    491\u001b[0m         \u001b[1;32mif\u001b[0m \u001b[0mencoding\u001b[0m\u001b[1;33m:\u001b[0m\u001b[1;33m\u001b[0m\u001b[1;33m\u001b[0m\u001b[0m\n\u001b[0;32m    492\u001b[0m             \u001b[1;31m# Encoding\u001b[0m\u001b[1;33m\u001b[0m\u001b[1;33m\u001b[0m\u001b[1;33m\u001b[0m\u001b[0m\n\u001b[1;32m--> 493\u001b[1;33m             \u001b[0mf\u001b[0m \u001b[1;33m=\u001b[0m \u001b[0mopen\u001b[0m\u001b[1;33m(\u001b[0m\u001b[0mpath_or_buf\u001b[0m\u001b[1;33m,\u001b[0m \u001b[0mmode\u001b[0m\u001b[1;33m,\u001b[0m \u001b[0mencoding\u001b[0m\u001b[1;33m=\u001b[0m\u001b[0mencoding\u001b[0m\u001b[1;33m,\u001b[0m \u001b[0merrors\u001b[0m\u001b[1;33m=\u001b[0m\u001b[0merrors\u001b[0m\u001b[1;33m,\u001b[0m \u001b[0mnewline\u001b[0m\u001b[1;33m=\u001b[0m\u001b[1;34m\"\"\u001b[0m\u001b[1;33m)\u001b[0m\u001b[1;33m\u001b[0m\u001b[1;33m\u001b[0m\u001b[0m\n\u001b[0m\u001b[0;32m    494\u001b[0m         \u001b[1;32melif\u001b[0m \u001b[0mis_text\u001b[0m\u001b[1;33m:\u001b[0m\u001b[1;33m\u001b[0m\u001b[1;33m\u001b[0m\u001b[0m\n\u001b[0;32m    495\u001b[0m             \u001b[1;31m# No explicit encoding\u001b[0m\u001b[1;33m\u001b[0m\u001b[1;33m\u001b[0m\u001b[1;33m\u001b[0m\u001b[0m\n",
      "\u001b[1;31mPermissionError\u001b[0m: [Errno 13] Permission denied: 'data/github-api-output_2021-03-04.csv'"
     ]
    }
   ],
   "source": [
    "file_date = datetime.fromtimestamp(os.path.getmtime(filename)).strftime(\"%Y-%m-%d\")\n",
    "df.to_csv(r'data/github-api-output_'+file_date+'.csv')"
   ]
  },
  {
   "cell_type": "code",
   "execution_count": 93,
   "metadata": {},
   "outputs": [
    {
     "output_type": "execute_result",
     "data": {
      "text/plain": [
       "             id    size  stargazers_count  watchers_count  forks_count  \\\n",
       "owner_login                                                              \n",
       "111Online    13  520454                10              10            0   \n",
       "NHSDigital   30  100935                49              49           40   \n",
       "nhsconnect   30  646417                96              96           69   \n",
       "nhsengland   23   36117                13              13           38   \n",
       "nhsuk        30  417065                55              55           43   \n",
       "nhsx         30  540686              2380            2380          531   \n",
       "\n",
       "             open_issues_count        license_name language  \n",
       "owner_login                                                  \n",
       "111Online                   25  Apache License 2.0       C#  \n",
       "NHSDigital                 200         MIT License   Python  \n",
       "nhsconnect                 162  Apache License 2.0      CSS  \n",
       "nhsengland                  79         MIT License   Python  \n",
       "nhsuk                       58         MIT License     HTML  \n",
       "nhsx                        82         MIT License   Python  "
      ],
      "text/html": "<div>\n<style scoped>\n    .dataframe tbody tr th:only-of-type {\n        vertical-align: middle;\n    }\n\n    .dataframe tbody tr th {\n        vertical-align: top;\n    }\n\n    .dataframe thead th {\n        text-align: right;\n    }\n</style>\n<table border=\"1\" class=\"dataframe\">\n  <thead>\n    <tr style=\"text-align: right;\">\n      <th></th>\n      <th>id</th>\n      <th>size</th>\n      <th>stargazers_count</th>\n      <th>watchers_count</th>\n      <th>forks_count</th>\n      <th>open_issues_count</th>\n      <th>license_name</th>\n      <th>language</th>\n    </tr>\n    <tr>\n      <th>owner_login</th>\n      <th></th>\n      <th></th>\n      <th></th>\n      <th></th>\n      <th></th>\n      <th></th>\n      <th></th>\n      <th></th>\n    </tr>\n  </thead>\n  <tbody>\n    <tr>\n      <th>111Online</th>\n      <td>13</td>\n      <td>520454</td>\n      <td>10</td>\n      <td>10</td>\n      <td>0</td>\n      <td>25</td>\n      <td>Apache License 2.0</td>\n      <td>C#</td>\n    </tr>\n    <tr>\n      <th>NHSDigital</th>\n      <td>30</td>\n      <td>100935</td>\n      <td>49</td>\n      <td>49</td>\n      <td>40</td>\n      <td>200</td>\n      <td>MIT License</td>\n      <td>Python</td>\n    </tr>\n    <tr>\n      <th>nhsconnect</th>\n      <td>30</td>\n      <td>646417</td>\n      <td>96</td>\n      <td>96</td>\n      <td>69</td>\n      <td>162</td>\n      <td>Apache License 2.0</td>\n      <td>CSS</td>\n    </tr>\n    <tr>\n      <th>nhsengland</th>\n      <td>23</td>\n      <td>36117</td>\n      <td>13</td>\n      <td>13</td>\n      <td>38</td>\n      <td>79</td>\n      <td>MIT License</td>\n      <td>Python</td>\n    </tr>\n    <tr>\n      <th>nhsuk</th>\n      <td>30</td>\n      <td>417065</td>\n      <td>55</td>\n      <td>55</td>\n      <td>43</td>\n      <td>58</td>\n      <td>MIT License</td>\n      <td>HTML</td>\n    </tr>\n    <tr>\n      <th>nhsx</th>\n      <td>30</td>\n      <td>540686</td>\n      <td>2380</td>\n      <td>2380</td>\n      <td>531</td>\n      <td>82</td>\n      <td>MIT License</td>\n      <td>Python</td>\n    </tr>\n  </tbody>\n</table>\n</div>"
     },
     "metadata": {},
     "execution_count": 93
    }
   ],
   "source": [
    "# Group the data frame by month and item and extract a number of stats from each group\n",
    "df_group = df.groupby(\n",
    "    ['owner_login']\n",
    ").agg(\n",
    "    {\n",
    "        # find the number of open repos\n",
    "        'id': \"count\",\n",
    "        'size': \"sum\",\n",
    "        'stargazers_count': \"sum\",\n",
    "        'watchers_count': \"sum\",\n",
    "        'forks_count': \"sum\",\n",
    "        'open_issues_count': \"sum\",\n",
    "        'license_name': lambda x:x.value_counts().index[0],\n",
    "        'language': lambda x:x.value_counts().index[0]\n",
    "    }\n",
    ")\n",
    "df_group"
   ]
  },
  {
   "cell_type": "code",
   "execution_count": 97,
   "metadata": {},
   "outputs": [],
   "source": [
    "df_html = df_group.head(10).to_html(classes='summary')"
   ]
  },
  {
   "cell_type": "code",
   "execution_count": 99,
   "metadata": {},
   "outputs": [],
   "source": [
    "# Write HTML String to file.html\n",
    "with open(\"table.html\", \"w\") as file:\n",
    "    file.write(df_html)"
   ]
  }
 ]
}