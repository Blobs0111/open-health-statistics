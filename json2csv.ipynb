{
 "metadata": {
  "language_info": {
   "codemirror_mode": {
    "name": "ipython",
    "version": 3
   },
   "file_extension": ".py",
   "mimetype": "text/x-python",
   "name": "python",
   "nbconvert_exporter": "python",
   "pygments_lexer": "ipython3",
   "version": "3.8.5-final"
  },
  "orig_nbformat": 2,
  "kernelspec": {
   "name": "python3",
   "display_name": "Python 3.8.5 64-bit (conda)",
   "metadata": {
    "interpreter": {
     "hash": "7130e50905e36ee8ba984bf5d604d4bdfc948a4bc02e9dfef431241a80ea1f4f"
    }
   }
  }
 },
 "nbformat": 4,
 "nbformat_minor": 2,
 "cells": [
  {
   "cell_type": "code",
   "execution_count": 1,
   "metadata": {
    "tags": []
   },
   "outputs": [],
   "source": [
    "import os\n",
    "import urllib\n",
    "import json\n",
    "import pandas as pd\n",
    "from pandas import json_normalize\n",
    "from datetime import datetime\n",
    "from datetime import date\n",
    "import time"
   ]
  },
  {
   "cell_type": "code",
   "execution_count": 2,
   "metadata": {
    "tags": []
   },
   "outputs": [],
   "source": [
    "# GitHub API unauthenticated requests rate limit = 10 requests per minute.\n",
    "orgs = [\"nhsx\",\"111Online\",\"NHSDigital\",\"nhsconnect\",\"nhsengland\"]"
   ]
  },
  {
   "cell_type": "code",
   "execution_count": 3,
   "metadata": {},
   "outputs": [
    {
     "output_type": "stream",
     "name": "stdout",
     "text": [
      "31/03/2021 16:52:29\n"
     ]
    }
   ],
   "source": [
    "# last modified datex\n",
    "data_updated = datetime.now().strftime(\"%d/%m/%Y %H:%M:%S\")\n",
    "print(data_updated)"
   ]
  },
  {
   "cell_type": "code",
   "execution_count": 4,
   "metadata": {},
   "outputs": [],
   "source": [
    "df = pd.DataFrame()\n",
    "for org in orgs:\n",
    "    data = [1]\n",
    "    page = 1\n",
    "    while bool(data) is True:\n",
    "        url = \"https://api.github.com/orgs/\"+str(org)+\"/repos?page=\"+str(page)+\"&per_page=100\"\n",
    "        response = urllib.request.urlopen(url)\n",
    "        data = json.loads(response.read())\n",
    "        flat_data = json_normalize(data)\n",
    "        df = df.append(flat_data)\n",
    "        page = page + 1\n",
    "        time.sleep(10) # Sleep to avoid rate limit\n",
    "df.columns = df.columns.str.replace('.', '_')"
   ]
  },
  {
   "cell_type": "code",
   "execution_count": 11,
   "metadata": {},
   "outputs": [
    {
     "output_type": "execute_result",
     "data": {
      "text/plain": [
       "          Org  Open Repos  Total Size  Stargazers  Forks  Open Issues  \\\n",
       "0   111Online          13      522097          10      0           26   \n",
       "1  NHSDigital          83      495092          91     74          372   \n",
       "2  nhsconnect         178     3193094         243    198          405   \n",
       "3  nhsengland          23       36298          14     38           80   \n",
       "4        nhsx          32      428854         197     85           51   \n",
       "\n",
       "          Top License Top Language  \n",
       "0  Apache License 2.0           C#  \n",
       "1         MIT License       Python  \n",
       "2  Apache License 2.0          CSS  \n",
       "3         MIT License       Python  \n",
       "4         MIT License       Python  "
      ],
      "text/html": "<div>\n<style scoped>\n    .dataframe tbody tr th:only-of-type {\n        vertical-align: middle;\n    }\n\n    .dataframe tbody tr th {\n        vertical-align: top;\n    }\n\n    .dataframe thead th {\n        text-align: right;\n    }\n</style>\n<table border=\"1\" class=\"dataframe\">\n  <thead>\n    <tr style=\"text-align: right;\">\n      <th></th>\n      <th>Org</th>\n      <th>Open Repos</th>\n      <th>Total Size</th>\n      <th>Stargazers</th>\n      <th>Forks</th>\n      <th>Open Issues</th>\n      <th>Top License</th>\n      <th>Top Language</th>\n    </tr>\n  </thead>\n  <tbody>\n    <tr>\n      <th>0</th>\n      <td>111Online</td>\n      <td>13</td>\n      <td>522097</td>\n      <td>10</td>\n      <td>0</td>\n      <td>26</td>\n      <td>Apache License 2.0</td>\n      <td>C#</td>\n    </tr>\n    <tr>\n      <th>1</th>\n      <td>NHSDigital</td>\n      <td>83</td>\n      <td>495092</td>\n      <td>91</td>\n      <td>74</td>\n      <td>372</td>\n      <td>MIT License</td>\n      <td>Python</td>\n    </tr>\n    <tr>\n      <th>2</th>\n      <td>nhsconnect</td>\n      <td>178</td>\n      <td>3193094</td>\n      <td>243</td>\n      <td>198</td>\n      <td>405</td>\n      <td>Apache License 2.0</td>\n      <td>CSS</td>\n    </tr>\n    <tr>\n      <th>3</th>\n      <td>nhsengland</td>\n      <td>23</td>\n      <td>36298</td>\n      <td>14</td>\n      <td>38</td>\n      <td>80</td>\n      <td>MIT License</td>\n      <td>Python</td>\n    </tr>\n    <tr>\n      <th>4</th>\n      <td>nhsx</td>\n      <td>32</td>\n      <td>428854</td>\n      <td>197</td>\n      <td>85</td>\n      <td>51</td>\n      <td>MIT License</td>\n      <td>Python</td>\n    </tr>\n  </tbody>\n</table>\n</div>"
     },
     "metadata": {},
     "execution_count": 11
    }
   ],
   "source": [
    "# Group the data frame by month and item and extract a number of stats from each group\n",
    "df_group = df.groupby(\n",
    "    ['owner_login']\n",
    ").agg(\n",
    "    {\n",
    "        # find the number of open repos\n",
    "        'name': \"count\",\n",
    "        'size': \"sum\",\n",
    "        'stargazers_count': \"sum\",\n",
    "        'forks_count': \"sum\",\n",
    "        'open_issues_count': \"sum\",\n",
    "        'license_name': lambda x:x.value_counts().index[0],\n",
    "        'language': lambda x:x.value_counts().index[0]\n",
    "    }\n",
    ")\n",
    "df_group = df_group.reset_index()\n",
    "df_group.columns = [\"Org\",\"Open Repos\",\"Total Size\",\"Stargazers\",\"Forks\",\"Open Issues\",\"Top License\",\"Top Language\"]\n",
    "df_group"
   ]
  },
  {
   "cell_type": "code",
   "execution_count": 12,
   "metadata": {},
   "outputs": [],
   "source": [
    "df_html = df_group.head(10).to_html(classes='summary')"
   ]
  },
  {
   "cell_type": "code",
   "execution_count": 13,
   "metadata": {},
   "outputs": [],
   "source": [
    "# Write HTML String to file.html\n",
    "with open(\"_includes/table.html\", \"w\") as file:\n",
    "    file.write(df_html)"
   ]
  },
  {
   "cell_type": "code",
   "execution_count": null,
   "metadata": {},
   "outputs": [],
   "source": [
    "import plotly \n",
    "# Use init_notebook_mode() to view the plots in jupyter notebook\n",
    "plotly.offline.init_notebook_mode()\n",
    "from plotly.graph_objs import Scatter,Layout,Bar\n",
    "\n",
    "trace1 = Bar(x=data_canada['year'],y=data_canada['pop'])\n",
    "    \n",
    "# Create chart \n",
    "plotly.offline.iplot(\n",
    "    {\n",
    "        \"data\": [trace1],\n",
    "        \"layout\": Layout(\n",
    "            title=\"<b>Simple Bar Chart - Year Vs Population</b>\",\n",
    "            xaxis=dict(\n",
    "                title=\"<b>Year</b>\",\n",
    "                zeroline=False,\n",
    "                gridcolor=\"rgb(183,183,183)\",\n",
    "                showline=True,\n",
    "            ),\n",
    "            yaxis=dict(\n",
    "                title=\"<b>Population</b>\",\n",
    "                gridcolor=\"rgb(183,183,183)\",\n",
    "                zeroline=False,\n",
    "                showline=True,\n",
    "            ),\n",
    "            font=dict(family=\"Courier New, monospace\", size=12, color=\"rgb(0,0,0)\"),\n",
    "        ),\n",
    "    }\n",
    ")\n"
   ]
  },
  {
   "cell_type": "code",
   "execution_count": null,
   "metadata": {},
   "outputs": [],
   "source": [
    "import plotly.io as pio\n",
    "\n",
    "\n",
    "pio.write_html(fig, file='index.html', auto_open=True)"
   ]
  },
  {
   "cell_type": "code",
   "execution_count": 15,
   "metadata": {},
   "outputs": [],
   "source": [
    "html_str = (\n",
    "    '<p><svg xmlns=\"http://www.w3.org/2000/svg\" viewBox=\"0 0 16 16\" width=\"16\" height=\"16\"><path fill-rule=\"evenodd\" d=\"M1.5 8a6.5 6.5 0 1113 0 6.5 6.5 0 01-13 0zM8 0a8 8 0 100 16A8 8 0 008 0zm.5 4.75a.75.75 0 00-1.5 0v3.5a.75.75 0 00.471.696l2.5 1a.75.75 0 00.557-1.392L8.5 7.742V4.75z\"></path></svg> Latest Data: '\n",
    "    + data_updated\n",
    "    + \"</p>\"\n",
    ")\n",
    "with open(\"_includes/update.html\", \"w\") as file:\n",
    "    file.write(html_str)"
   ]
  },
  {
   "cell_type": "code",
   "execution_count": null,
   "metadata": {},
   "outputs": [],
   "source": []
  }
 ]
}