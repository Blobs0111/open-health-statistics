{
 "metadata": {
  "language_info": {
   "codemirror_mode": {
    "name": "ipython",
    "version": 3
   },
   "file_extension": ".py",
   "mimetype": "text/x-python",
   "name": "python",
   "nbconvert_exporter": "python",
   "pygments_lexer": "ipython3",
   "version": "3.8.5-final"
  },
  "orig_nbformat": 2,
  "kernelspec": {
   "name": "python3",
   "display_name": "Python 3.8.5 64-bit (conda)",
   "metadata": {
    "interpreter": {
     "hash": "7130e50905e36ee8ba984bf5d604d4bdfc948a4bc02e9dfef431241a80ea1f4f"
    }
   }
  }
 },
 "nbformat": 4,
 "nbformat_minor": 2,
 "cells": [
  {
   "cell_type": "code",
   "execution_count": 18,
   "metadata": {
    "tags": []
   },
   "outputs": [],
   "source": [
    "import os\n",
    "import urllib\n",
    "import json\n",
    "import pandas as pd\n",
    "from pandas import json_normalize\n",
    "from datetime import datetime\n",
    "from datetime import date\n",
    "import time"
   ]
  },
  {
   "cell_type": "code",
   "execution_count": 36,
   "metadata": {
    "tags": []
   },
   "outputs": [],
   "source": [
    "# GitHub API unauthenticated requests rate limit = 10 requests per minute.\n",
    "orgs = [\"nhsx\",\"111Online\",\"NHSDigital\",\"nhsconnect\",\"nhsengland\"]"
   ]
  },
  {
   "cell_type": "code",
   "execution_count": 26,
   "metadata": {},
   "outputs": [
    {
     "output_type": "stream",
     "name": "stdout",
     "text": [
      "31/03/2021 12:47:51\n"
     ]
    }
   ],
   "source": [
    "# last modified datex\n",
    "data_updated = datetime.now().strftime(\"%d/%m/%Y %H:%M:%S\")\n",
    "print(data_updated)"
   ]
  },
  {
   "cell_type": "code",
   "execution_count": 34,
   "metadata": {},
   "outputs": [
    {
     "output_type": "execute_result",
     "data": {
      "text/plain": [
       "         id                           node_id                        name  \\\n",
       "0  57110085  MDEwOlJlcG9zaXRvcnk1NzExMDA4NQ==      gpconnect-demonstrator   \n",
       "1  63938241  MDEwOlJlcG9zaXRvcnk2MzkzODI0MQ==                   gpconnect   \n",
       "2  64459031  MDEwOlJlcG9zaXRvcnk2NDQ1OTAzMQ==  documentation-theme-jekyll   \n",
       "3  64459559  MDEwOlJlcG9zaXRvcnk2NDQ1OTU1OQ==              gpconnect-fhir   \n",
       "4  65154570  MDEwOlJlcG9zaXRvcnk2NTE1NDU3MA==             cda-to-fhir-eol   \n",
       "\n",
       "                               full_name  private  \\\n",
       "0      nhsconnect/gpconnect-demonstrator    False   \n",
       "1                   nhsconnect/gpconnect    False   \n",
       "2  nhsconnect/documentation-theme-jekyll    False   \n",
       "3              nhsconnect/gpconnect-fhir    False   \n",
       "4             nhsconnect/cda-to-fhir-eol    False   \n",
       "\n",
       "                                            html_url  \\\n",
       "0  https://github.com/nhsconnect/gpconnect-demons...   \n",
       "1            https://github.com/nhsconnect/gpconnect   \n",
       "2  https://github.com/nhsconnect/documentation-th...   \n",
       "3       https://github.com/nhsconnect/gpconnect-fhir   \n",
       "4      https://github.com/nhsconnect/cda-to-fhir-eol   \n",
       "\n",
       "                                         description   fork  \\\n",
       "0  GP Connect demonstrator is a reference impleme...  False   \n",
       "1                       GP Connect API specification  False   \n",
       "2  A Jekyll-based theme designed for documentatio...   True   \n",
       "3                             GP Connect FHIR assets  False   \n",
       "4               End of Life - FHIR Document Solution  False   \n",
       "\n",
       "                                                 url  \\\n",
       "0  https://api.github.com/repos/nhsconnect/gpconn...   \n",
       "1  https://api.github.com/repos/nhsconnect/gpconnect   \n",
       "2  https://api.github.com/repos/nhsconnect/docume...   \n",
       "3  https://api.github.com/repos/nhsconnect/gpconn...   \n",
       "4  https://api.github.com/repos/nhsconnect/cda-to...   \n",
       "\n",
       "                                           forks_url  ... owner_site_admin  \\\n",
       "0  https://api.github.com/repos/nhsconnect/gpconn...  ...            False   \n",
       "1  https://api.github.com/repos/nhsconnect/gpconn...  ...            False   \n",
       "2  https://api.github.com/repos/nhsconnect/docume...  ...            False   \n",
       "3  https://api.github.com/repos/nhsconnect/gpconn...  ...            False   \n",
       "4  https://api.github.com/repos/nhsconnect/cda-to...  ...            False   \n",
       "\n",
       "  license_key        license_name license_spdx_id  \\\n",
       "0  apache-2.0  Apache License 2.0      Apache-2.0   \n",
       "1  apache-2.0  Apache License 2.0      Apache-2.0   \n",
       "2         NaN                 NaN             NaN   \n",
       "3  apache-2.0  Apache License 2.0      Apache-2.0   \n",
       "4  apache-2.0  Apache License 2.0      Apache-2.0   \n",
       "\n",
       "                                  license_url   license_node_id  \\\n",
       "0  https://api.github.com/licenses/apache-2.0  MDc6TGljZW5zZTI=   \n",
       "1  https://api.github.com/licenses/apache-2.0  MDc6TGljZW5zZTI=   \n",
       "2                                         NaN               NaN   \n",
       "3  https://api.github.com/licenses/apache-2.0  MDc6TGljZW5zZTI=   \n",
       "4  https://api.github.com/licenses/apache-2.0  MDc6TGljZW5zZTI=   \n",
       "\n",
       "  permissions_admin permissions_push permissions_pull license  \n",
       "0             False            False             True     NaN  \n",
       "1             False            False             True     NaN  \n",
       "2             False            False             True     NaN  \n",
       "3             False            False             True     NaN  \n",
       "4             False            False             True     NaN  \n",
       "\n",
       "[5 rows x 98 columns]"
      ],
      "text/html": "<div>\n<style scoped>\n    .dataframe tbody tr th:only-of-type {\n        vertical-align: middle;\n    }\n\n    .dataframe tbody tr th {\n        vertical-align: top;\n    }\n\n    .dataframe thead th {\n        text-align: right;\n    }\n</style>\n<table border=\"1\" class=\"dataframe\">\n  <thead>\n    <tr style=\"text-align: right;\">\n      <th></th>\n      <th>id</th>\n      <th>node_id</th>\n      <th>name</th>\n      <th>full_name</th>\n      <th>private</th>\n      <th>html_url</th>\n      <th>description</th>\n      <th>fork</th>\n      <th>url</th>\n      <th>forks_url</th>\n      <th>...</th>\n      <th>owner_site_admin</th>\n      <th>license_key</th>\n      <th>license_name</th>\n      <th>license_spdx_id</th>\n      <th>license_url</th>\n      <th>license_node_id</th>\n      <th>permissions_admin</th>\n      <th>permissions_push</th>\n      <th>permissions_pull</th>\n      <th>license</th>\n    </tr>\n  </thead>\n  <tbody>\n    <tr>\n      <th>0</th>\n      <td>57110085</td>\n      <td>MDEwOlJlcG9zaXRvcnk1NzExMDA4NQ==</td>\n      <td>gpconnect-demonstrator</td>\n      <td>nhsconnect/gpconnect-demonstrator</td>\n      <td>False</td>\n      <td>https://github.com/nhsconnect/gpconnect-demons...</td>\n      <td>GP Connect demonstrator is a reference impleme...</td>\n      <td>False</td>\n      <td>https://api.github.com/repos/nhsconnect/gpconn...</td>\n      <td>https://api.github.com/repos/nhsconnect/gpconn...</td>\n      <td>...</td>\n      <td>False</td>\n      <td>apache-2.0</td>\n      <td>Apache License 2.0</td>\n      <td>Apache-2.0</td>\n      <td>https://api.github.com/licenses/apache-2.0</td>\n      <td>MDc6TGljZW5zZTI=</td>\n      <td>False</td>\n      <td>False</td>\n      <td>True</td>\n      <td>NaN</td>\n    </tr>\n    <tr>\n      <th>1</th>\n      <td>63938241</td>\n      <td>MDEwOlJlcG9zaXRvcnk2MzkzODI0MQ==</td>\n      <td>gpconnect</td>\n      <td>nhsconnect/gpconnect</td>\n      <td>False</td>\n      <td>https://github.com/nhsconnect/gpconnect</td>\n      <td>GP Connect API specification</td>\n      <td>False</td>\n      <td>https://api.github.com/repos/nhsconnect/gpconnect</td>\n      <td>https://api.github.com/repos/nhsconnect/gpconn...</td>\n      <td>...</td>\n      <td>False</td>\n      <td>apache-2.0</td>\n      <td>Apache License 2.0</td>\n      <td>Apache-2.0</td>\n      <td>https://api.github.com/licenses/apache-2.0</td>\n      <td>MDc6TGljZW5zZTI=</td>\n      <td>False</td>\n      <td>False</td>\n      <td>True</td>\n      <td>NaN</td>\n    </tr>\n    <tr>\n      <th>2</th>\n      <td>64459031</td>\n      <td>MDEwOlJlcG9zaXRvcnk2NDQ1OTAzMQ==</td>\n      <td>documentation-theme-jekyll</td>\n      <td>nhsconnect/documentation-theme-jekyll</td>\n      <td>False</td>\n      <td>https://github.com/nhsconnect/documentation-th...</td>\n      <td>A Jekyll-based theme designed for documentatio...</td>\n      <td>True</td>\n      <td>https://api.github.com/repos/nhsconnect/docume...</td>\n      <td>https://api.github.com/repos/nhsconnect/docume...</td>\n      <td>...</td>\n      <td>False</td>\n      <td>NaN</td>\n      <td>NaN</td>\n      <td>NaN</td>\n      <td>NaN</td>\n      <td>NaN</td>\n      <td>False</td>\n      <td>False</td>\n      <td>True</td>\n      <td>NaN</td>\n    </tr>\n    <tr>\n      <th>3</th>\n      <td>64459559</td>\n      <td>MDEwOlJlcG9zaXRvcnk2NDQ1OTU1OQ==</td>\n      <td>gpconnect-fhir</td>\n      <td>nhsconnect/gpconnect-fhir</td>\n      <td>False</td>\n      <td>https://github.com/nhsconnect/gpconnect-fhir</td>\n      <td>GP Connect FHIR assets</td>\n      <td>False</td>\n      <td>https://api.github.com/repos/nhsconnect/gpconn...</td>\n      <td>https://api.github.com/repos/nhsconnect/gpconn...</td>\n      <td>...</td>\n      <td>False</td>\n      <td>apache-2.0</td>\n      <td>Apache License 2.0</td>\n      <td>Apache-2.0</td>\n      <td>https://api.github.com/licenses/apache-2.0</td>\n      <td>MDc6TGljZW5zZTI=</td>\n      <td>False</td>\n      <td>False</td>\n      <td>True</td>\n      <td>NaN</td>\n    </tr>\n    <tr>\n      <th>4</th>\n      <td>65154570</td>\n      <td>MDEwOlJlcG9zaXRvcnk2NTE1NDU3MA==</td>\n      <td>cda-to-fhir-eol</td>\n      <td>nhsconnect/cda-to-fhir-eol</td>\n      <td>False</td>\n      <td>https://github.com/nhsconnect/cda-to-fhir-eol</td>\n      <td>End of Life - FHIR Document Solution</td>\n      <td>False</td>\n      <td>https://api.github.com/repos/nhsconnect/cda-to...</td>\n      <td>https://api.github.com/repos/nhsconnect/cda-to...</td>\n      <td>...</td>\n      <td>False</td>\n      <td>apache-2.0</td>\n      <td>Apache License 2.0</td>\n      <td>Apache-2.0</td>\n      <td>https://api.github.com/licenses/apache-2.0</td>\n      <td>MDc6TGljZW5zZTI=</td>\n      <td>False</td>\n      <td>False</td>\n      <td>True</td>\n      <td>NaN</td>\n    </tr>\n  </tbody>\n</table>\n<p>5 rows × 98 columns</p>\n</div>"
     },
     "metadata": {},
     "execution_count": 34
    }
   ],
   "source": [
    "df = pd.DataFrame()\n",
    "for org in orgs:\n",
    "    data = [1]\n",
    "    page = 1\n",
    "    while bool(data) is True:\n",
    "        url = \"https://api.github.com/orgs/\"+str(org)+\"/repos?page=\"+str(page)+\"&per_page=100\"\n",
    "        response = urllib.request.urlopen(url)\n",
    "        data = json.loads(response.read())\n",
    "        flat_data = json_normalize(data)\n",
    "        df = df.append(flat_data)\n",
    "        page = page + 1\n",
    "        time.sleep(10) # Sleep to avoid rate limit\n",
    "df.columns = df.columns.str.replace('.', '_')\n",
    "df.head()"
   ]
  },
  {
   "cell_type": "code",
   "execution_count": 35,
   "metadata": {},
   "outputs": [
    {
     "output_type": "execute_result",
     "data": {
      "text/plain": [
       "             name     size  stargazers_count  forks_count  open_issues_count  \\\n",
       "owner_login                                                                    \n",
       "nhsconnect    178  3193113               243          198                406   \n",
       "nhsengland     23    36298                14           38                 80   \n",
       "\n",
       "                   license_name language  \n",
       "owner_login                               \n",
       "nhsconnect   Apache License 2.0      CSS  \n",
       "nhsengland          MIT License   Python  "
      ],
      "text/html": "<div>\n<style scoped>\n    .dataframe tbody tr th:only-of-type {\n        vertical-align: middle;\n    }\n\n    .dataframe tbody tr th {\n        vertical-align: top;\n    }\n\n    .dataframe thead th {\n        text-align: right;\n    }\n</style>\n<table border=\"1\" class=\"dataframe\">\n  <thead>\n    <tr style=\"text-align: right;\">\n      <th></th>\n      <th>name</th>\n      <th>size</th>\n      <th>stargazers_count</th>\n      <th>forks_count</th>\n      <th>open_issues_count</th>\n      <th>license_name</th>\n      <th>language</th>\n    </tr>\n    <tr>\n      <th>owner_login</th>\n      <th></th>\n      <th></th>\n      <th></th>\n      <th></th>\n      <th></th>\n      <th></th>\n      <th></th>\n    </tr>\n  </thead>\n  <tbody>\n    <tr>\n      <th>nhsconnect</th>\n      <td>178</td>\n      <td>3193113</td>\n      <td>243</td>\n      <td>198</td>\n      <td>406</td>\n      <td>Apache License 2.0</td>\n      <td>CSS</td>\n    </tr>\n    <tr>\n      <th>nhsengland</th>\n      <td>23</td>\n      <td>36298</td>\n      <td>14</td>\n      <td>38</td>\n      <td>80</td>\n      <td>MIT License</td>\n      <td>Python</td>\n    </tr>\n  </tbody>\n</table>\n</div>"
     },
     "metadata": {},
     "execution_count": 35
    }
   ],
   "source": [
    "# Group the data frame by month and item and extract a number of stats from each group\n",
    "df_group = df.groupby(\n",
    "    ['owner_login']\n",
    ").agg(\n",
    "    {\n",
    "        # find the number of open repos\n",
    "        'name': \"count\",\n",
    "        'size': \"sum\",\n",
    "        'stargazers_count': \"sum\",\n",
    "        'forks_count': \"sum\",\n",
    "        'open_issues_count': \"sum\",\n",
    "        'license_name': lambda x:x.value_counts().index[0],\n",
    "        'language': lambda x:x.value_counts().index[0]\n",
    "    }\n",
    ")\n",
    "df_group"
   ]
  },
  {
   "cell_type": "code",
   "execution_count": 33,
   "metadata": {},
   "outputs": [],
   "source": [
    "df_html = df_group.head(10).to_html(classes='summary')"
   ]
  },
  {
   "cell_type": "code",
   "execution_count": null,
   "metadata": {},
   "outputs": [],
   "source": [
    "# Write HTML String to file.html\n",
    "with open(\"_includes/table1.html\", \"w\") as file:\n",
    "    file.write(df_html)"
   ]
  },
  {
   "cell_type": "code",
   "execution_count": null,
   "metadata": {},
   "outputs": [],
   "source": [
    "import plotly \n",
    "# Use init_notebook_mode() to view the plots in jupyter notebook\n",
    "plotly.offline.init_notebook_mode()\n",
    "from plotly.graph_objs import Scatter,Layout,Bar\n",
    "\n",
    "trace1 = Bar(x=data_canada['year'],y=data_canada['pop'])\n",
    "    \n",
    "# Create chart \n",
    "plotly.offline.iplot(\n",
    "    {\n",
    "        \"data\": [trace1],\n",
    "        \"layout\": Layout(\n",
    "            title=\"<b>Simple Bar Chart - Year Vs Population</b>\",\n",
    "            xaxis=dict(\n",
    "                title=\"<b>Year</b>\",\n",
    "                zeroline=False,\n",
    "                gridcolor=\"rgb(183,183,183)\",\n",
    "                showline=True,\n",
    "            ),\n",
    "            yaxis=dict(\n",
    "                title=\"<b>Population</b>\",\n",
    "                gridcolor=\"rgb(183,183,183)\",\n",
    "                zeroline=False,\n",
    "                showline=True,\n",
    "            ),\n",
    "            font=dict(family=\"Courier New, monospace\", size=12, color=\"rgb(0,0,0)\"),\n",
    "        ),\n",
    "    }\n",
    ")\n"
   ]
  },
  {
   "cell_type": "code",
   "execution_count": null,
   "metadata": {},
   "outputs": [],
   "source": [
    "import plotly.io as pio\n",
    "\n",
    "\n",
    "pio.write_html(fig, file='index.html', auto_open=True)"
   ]
  }
 ]
}