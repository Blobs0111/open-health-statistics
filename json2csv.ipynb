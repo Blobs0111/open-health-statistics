{
 "metadata": {
  "language_info": {
   "codemirror_mode": {
    "name": "ipython",
    "version": 3
   },
   "file_extension": ".py",
   "mimetype": "text/x-python",
   "name": "python",
   "nbconvert_exporter": "python",
   "pygments_lexer": "ipython3",
   "version": "3.8.5-final"
  },
  "orig_nbformat": 2,
  "kernelspec": {
   "name": "python3",
   "display_name": "Python 3.8.5 64-bit (conda)",
   "metadata": {
    "interpreter": {
     "hash": "7130e50905e36ee8ba984bf5d604d4bdfc948a4bc02e9dfef431241a80ea1f4f"
    }
   }
  }
 },
 "nbformat": 4,
 "nbformat_minor": 2,
 "cells": [
  {
   "cell_type": "code",
   "execution_count": 29,
   "metadata": {
    "tags": []
   },
   "outputs": [],
   "source": [
    "import os\n",
    "import json\n",
    "import pandas as pd\n",
    "from pandas.io.json import json_normalize\n",
    "from datetime import datetime"
   ]
  },
  {
   "cell_type": "code",
   "execution_count": 1,
   "metadata": {},
   "outputs": [
    {
     "output_type": "execute_result",
     "data": {
      "text/plain": [
       "['github_api/111online_repos.json',\n",
       " 'github_api/nhsconnect_repos.json',\n",
       " 'github_api/nhsdigital_repos.json',\n",
       " 'github_api/nhsengland_repos.json',\n",
       " 'github_api/nhsuk_repos.json',\n",
       " 'github_api/nhsx_repos.json']"
      ]
     },
     "metadata": {},
     "execution_count": 1
    }
   ],
   "source": [
    "path = \"github_api/\"\n",
    "my_filenames = [\n",
    "    os.path.join(root, name)\n",
    "    for root, dirs, files in os.walk(path)\n",
    "    for name in files\n",
    "    if name.endswith((\".json\"))\n",
    "]\n",
    "my_filenames"
   ]
  },
  {
   "cell_type": "code",
   "execution_count": 13,
   "metadata": {},
   "outputs": [
    {
     "output_type": "stream",
     "name": "stdout",
     "text": [
      "2021-03-04 10:24:50\n"
     ]
    }
   ],
   "source": [
    "# last modified datex\n",
    "time_stamp = os.path.getmtime(my_filenames[0])\n",
    "mod_date = datetime.fromtimestamp(time_stamp).strftime(\"%Y-%m-%d %H:%M:%S\")\n",
    "print(mod_date)"
   ]
  },
  {
   "cell_type": "code",
   "execution_count": null,
   "metadata": {},
   "outputs": [],
   "source": [
    "with open('github_api/nhsx_repos.json') as f:\n",
    "  data = json.load(f)"
   ]
  },
  {
   "cell_type": "code",
   "execution_count": 44,
   "metadata": {},
   "outputs": [
    {
     "output_type": "execute_result",
     "data": {
      "text/plain": [
       "          id                           node_id                     name  \\\n",
       "0  177147975  MDEwOlJlcG9zaXRvcnkxNzcxNDc5NzU=           nhsx-prototype   \n",
       "1  178217860  MDEwOlJlcG9zaXRvcnkxNzgyMTc4NjA=         old-nhsx-website   \n",
       "2  189214616  MDEwOlJlcG9zaXRvcnkxODkyMTQ2MTY=  open-source-fhir-server   \n",
       "3  193096724  MDEwOlJlcG9zaXRvcnkxOTMwOTY3MjQ=             nhsalexahack   \n",
       "4  193874492  MDEwOlJlcG9zaXRvcnkxOTM4NzQ0OTI=        algorithm-library   \n",
       "\n",
       "                      full_name  private  \\\n",
       "0           nhsx/nhsx-prototype    False   \n",
       "1         nhsx/old-nhsx-website    False   \n",
       "2  nhsx/open-source-fhir-server    False   \n",
       "3             nhsx/nhsalexahack    False   \n",
       "4        nhsx/algorithm-library    False   \n",
       "\n",
       "                                          html_url  \\\n",
       "0           https://github.com/nhsx/nhsx-prototype   \n",
       "1         https://github.com/nhsx/old-nhsx-website   \n",
       "2  https://github.com/nhsx/open-source-fhir-server   \n",
       "3             https://github.com/nhsx/nhsalexahack   \n",
       "4        https://github.com/nhsx/algorithm-library   \n",
       "\n",
       "                                         description   fork  \\\n",
       "0             Design prototypes for the NHSX website  False   \n",
       "1  :warning: This repository has been deprecated ...  False   \n",
       "2                            Open source fhir server  False   \n",
       "3                                               None   True   \n",
       "4  A curated list of algorithms and datasets. All...  False   \n",
       "\n",
       "                                                 url  \\\n",
       "0   https://api.github.com/repos/nhsx/nhsx-prototype   \n",
       "1  https://api.github.com/repos/nhsx/old-nhsx-web...   \n",
       "2  https://api.github.com/repos/nhsx/open-source-...   \n",
       "3     https://api.github.com/repos/nhsx/nhsalexahack   \n",
       "4  https://api.github.com/repos/nhsx/algorithm-li...   \n",
       "\n",
       "                                           forks_url  ... owner.site_admin  \\\n",
       "0  https://api.github.com/repos/nhsx/nhsx-prototy...  ...            False   \n",
       "1  https://api.github.com/repos/nhsx/old-nhsx-web...  ...            False   \n",
       "2  https://api.github.com/repos/nhsx/open-source-...  ...            False   \n",
       "3  https://api.github.com/repos/nhsx/nhsalexahack...  ...            False   \n",
       "4  https://api.github.com/repos/nhsx/algorithm-li...  ...            False   \n",
       "\n",
       "  license.key license.name license.spdx_id  \\\n",
       "0         mit  MIT License             MIT   \n",
       "1         mit  MIT License             MIT   \n",
       "2         mit  MIT License             MIT   \n",
       "3         NaN          NaN             NaN   \n",
       "4         mit  MIT License             MIT   \n",
       "\n",
       "                           license.url   license.node_id permissions.admin  \\\n",
       "0  https://api.github.com/licenses/mit  MDc6TGljZW5zZTEz             False   \n",
       "1  https://api.github.com/licenses/mit  MDc6TGljZW5zZTEz             False   \n",
       "2  https://api.github.com/licenses/mit  MDc6TGljZW5zZTEz             False   \n",
       "3                                  NaN               NaN             False   \n",
       "4  https://api.github.com/licenses/mit  MDc6TGljZW5zZTEz             False   \n",
       "\n",
       "  permissions.push permissions.pull license  \n",
       "0            False             True     NaN  \n",
       "1            False             True     NaN  \n",
       "2            False             True     NaN  \n",
       "3            False             True     NaN  \n",
       "4            False             True     NaN  \n",
       "\n",
       "[5 rows x 98 columns]"
      ],
      "text/html": "<div>\n<style scoped>\n    .dataframe tbody tr th:only-of-type {\n        vertical-align: middle;\n    }\n\n    .dataframe tbody tr th {\n        vertical-align: top;\n    }\n\n    .dataframe thead th {\n        text-align: right;\n    }\n</style>\n<table border=\"1\" class=\"dataframe\">\n  <thead>\n    <tr style=\"text-align: right;\">\n      <th></th>\n      <th>id</th>\n      <th>node_id</th>\n      <th>name</th>\n      <th>full_name</th>\n      <th>private</th>\n      <th>html_url</th>\n      <th>description</th>\n      <th>fork</th>\n      <th>url</th>\n      <th>forks_url</th>\n      <th>...</th>\n      <th>owner.site_admin</th>\n      <th>license.key</th>\n      <th>license.name</th>\n      <th>license.spdx_id</th>\n      <th>license.url</th>\n      <th>license.node_id</th>\n      <th>permissions.admin</th>\n      <th>permissions.push</th>\n      <th>permissions.pull</th>\n      <th>license</th>\n    </tr>\n  </thead>\n  <tbody>\n    <tr>\n      <th>0</th>\n      <td>177147975</td>\n      <td>MDEwOlJlcG9zaXRvcnkxNzcxNDc5NzU=</td>\n      <td>nhsx-prototype</td>\n      <td>nhsx/nhsx-prototype</td>\n      <td>False</td>\n      <td>https://github.com/nhsx/nhsx-prototype</td>\n      <td>Design prototypes for the NHSX website</td>\n      <td>False</td>\n      <td>https://api.github.com/repos/nhsx/nhsx-prototype</td>\n      <td>https://api.github.com/repos/nhsx/nhsx-prototy...</td>\n      <td>...</td>\n      <td>False</td>\n      <td>mit</td>\n      <td>MIT License</td>\n      <td>MIT</td>\n      <td>https://api.github.com/licenses/mit</td>\n      <td>MDc6TGljZW5zZTEz</td>\n      <td>False</td>\n      <td>False</td>\n      <td>True</td>\n      <td>NaN</td>\n    </tr>\n    <tr>\n      <th>1</th>\n      <td>178217860</td>\n      <td>MDEwOlJlcG9zaXRvcnkxNzgyMTc4NjA=</td>\n      <td>old-nhsx-website</td>\n      <td>nhsx/old-nhsx-website</td>\n      <td>False</td>\n      <td>https://github.com/nhsx/old-nhsx-website</td>\n      <td>:warning: This repository has been deprecated ...</td>\n      <td>False</td>\n      <td>https://api.github.com/repos/nhsx/old-nhsx-web...</td>\n      <td>https://api.github.com/repos/nhsx/old-nhsx-web...</td>\n      <td>...</td>\n      <td>False</td>\n      <td>mit</td>\n      <td>MIT License</td>\n      <td>MIT</td>\n      <td>https://api.github.com/licenses/mit</td>\n      <td>MDc6TGljZW5zZTEz</td>\n      <td>False</td>\n      <td>False</td>\n      <td>True</td>\n      <td>NaN</td>\n    </tr>\n    <tr>\n      <th>2</th>\n      <td>189214616</td>\n      <td>MDEwOlJlcG9zaXRvcnkxODkyMTQ2MTY=</td>\n      <td>open-source-fhir-server</td>\n      <td>nhsx/open-source-fhir-server</td>\n      <td>False</td>\n      <td>https://github.com/nhsx/open-source-fhir-server</td>\n      <td>Open source fhir server</td>\n      <td>False</td>\n      <td>https://api.github.com/repos/nhsx/open-source-...</td>\n      <td>https://api.github.com/repos/nhsx/open-source-...</td>\n      <td>...</td>\n      <td>False</td>\n      <td>mit</td>\n      <td>MIT License</td>\n      <td>MIT</td>\n      <td>https://api.github.com/licenses/mit</td>\n      <td>MDc6TGljZW5zZTEz</td>\n      <td>False</td>\n      <td>False</td>\n      <td>True</td>\n      <td>NaN</td>\n    </tr>\n    <tr>\n      <th>3</th>\n      <td>193096724</td>\n      <td>MDEwOlJlcG9zaXRvcnkxOTMwOTY3MjQ=</td>\n      <td>nhsalexahack</td>\n      <td>nhsx/nhsalexahack</td>\n      <td>False</td>\n      <td>https://github.com/nhsx/nhsalexahack</td>\n      <td>None</td>\n      <td>True</td>\n      <td>https://api.github.com/repos/nhsx/nhsalexahack</td>\n      <td>https://api.github.com/repos/nhsx/nhsalexahack...</td>\n      <td>...</td>\n      <td>False</td>\n      <td>NaN</td>\n      <td>NaN</td>\n      <td>NaN</td>\n      <td>NaN</td>\n      <td>NaN</td>\n      <td>False</td>\n      <td>False</td>\n      <td>True</td>\n      <td>NaN</td>\n    </tr>\n    <tr>\n      <th>4</th>\n      <td>193874492</td>\n      <td>MDEwOlJlcG9zaXRvcnkxOTM4NzQ0OTI=</td>\n      <td>algorithm-library</td>\n      <td>nhsx/algorithm-library</td>\n      <td>False</td>\n      <td>https://github.com/nhsx/algorithm-library</td>\n      <td>A curated list of algorithms and datasets. All...</td>\n      <td>False</td>\n      <td>https://api.github.com/repos/nhsx/algorithm-li...</td>\n      <td>https://api.github.com/repos/nhsx/algorithm-li...</td>\n      <td>...</td>\n      <td>False</td>\n      <td>mit</td>\n      <td>MIT License</td>\n      <td>MIT</td>\n      <td>https://api.github.com/licenses/mit</td>\n      <td>MDc6TGljZW5zZTEz</td>\n      <td>False</td>\n      <td>False</td>\n      <td>True</td>\n      <td>NaN</td>\n    </tr>\n  </tbody>\n</table>\n<p>5 rows × 98 columns</p>\n</div>"
     },
     "metadata": {},
     "execution_count": 44
    }
   ],
   "source": [
    "from pandas.io.json import json_normalize\n",
    "flat_data = json_normalize(data)\n",
    "flat_data\n",
    "flat_data.assign(date = mod_date)\n",
    "flat_data.head()"
   ]
  },
  {
   "cell_type": "code",
   "execution_count": 43,
   "metadata": {},
   "outputs": [
    {
     "output_type": "execute_result",
     "data": {
      "text/plain": [
       "          id                           node_id                        name  \\\n",
       "0  138751264  MDEwOlJlcG9zaXRvcnkxMzg3NTEyNjQ=  nhs111-implementation-site   \n",
       "1  138753441  MDEwOlJlcG9zaXRvcnkxMzg3NTM0NDE=                   web-stack   \n",
       "2  206048937  MDEwOlJlcG9zaXRvcnkyMDYwNDg5Mzc=       nhs111-domain-dos-api   \n",
       "3  206102072  MDEwOlJlcG9zaXRvcnkyMDYxMDIwNzI=   nhs111-itk-dispatcher-api   \n",
       "4  209029513  MDEwOlJlcG9zaXRvcnkyMDkwMjk1MTM=         nhs111-feedback-api   \n",
       "\n",
       "                              full_name  private  \\\n",
       "0  111Online/nhs111-implementation-site    False   \n",
       "1                   111Online/web-stack    False   \n",
       "2       111Online/nhs111-domain-dos-api    False   \n",
       "3   111Online/nhs111-itk-dispatcher-api    False   \n",
       "4         111Online/nhs111-feedback-api    False   \n",
       "\n",
       "                                            html_url  \\\n",
       "0  https://github.com/111Online/nhs111-implementa...   \n",
       "1             https://github.com/111Online/web-stack   \n",
       "2  https://github.com/111Online/nhs111-domain-dos...   \n",
       "3  https://github.com/111Online/nhs111-itk-dispat...   \n",
       "4   https://github.com/111Online/nhs111-feedback-api   \n",
       "\n",
       "                          description   fork  \\\n",
       "0  Implementation site for 111 online  False   \n",
       "1              NHS 111 Online Product  False   \n",
       "2                                None  False   \n",
       "3                                None  False   \n",
       "4                                None  False   \n",
       "\n",
       "                                                 url  \\\n",
       "0  https://api.github.com/repos/111Online/nhs111-...   \n",
       "1   https://api.github.com/repos/111Online/web-stack   \n",
       "2  https://api.github.com/repos/111Online/nhs111-...   \n",
       "3  https://api.github.com/repos/111Online/nhs111-...   \n",
       "4  https://api.github.com/repos/111Online/nhs111-...   \n",
       "\n",
       "                                           forks_url  ... permissions.admin  \\\n",
       "0  https://api.github.com/repos/111Online/nhs111-...  ...             False   \n",
       "1  https://api.github.com/repos/111Online/web-sta...  ...             False   \n",
       "2  https://api.github.com/repos/111Online/nhs111-...  ...             False   \n",
       "3  https://api.github.com/repos/111Online/nhs111-...  ...             False   \n",
       "4  https://api.github.com/repos/111Online/nhs111-...  ...             False   \n",
       "\n",
       "  permissions.push permissions.pull license.key        license.name  \\\n",
       "0            False             True         NaN                 NaN   \n",
       "1            False             True  apache-2.0  Apache License 2.0   \n",
       "2            False             True  apache-2.0  Apache License 2.0   \n",
       "3            False             True  apache-2.0  Apache License 2.0   \n",
       "4            False             True  apache-2.0  Apache License 2.0   \n",
       "\n",
       "  license.spdx_id                                 license.url  \\\n",
       "0             NaN                                         NaN   \n",
       "1      Apache-2.0  https://api.github.com/licenses/apache-2.0   \n",
       "2      Apache-2.0  https://api.github.com/licenses/apache-2.0   \n",
       "3      Apache-2.0  https://api.github.com/licenses/apache-2.0   \n",
       "4      Apache-2.0  https://api.github.com/licenses/apache-2.0   \n",
       "\n",
       "    license.node_id                        file_name            file_date  \n",
       "0               NaN  github_api/111online_repos.json  2021-03-04 10:24:50  \n",
       "1  MDc6TGljZW5zZTI=  github_api/111online_repos.json  2021-03-04 10:24:50  \n",
       "2  MDc6TGljZW5zZTI=  github_api/111online_repos.json  2021-03-04 10:24:50  \n",
       "3  MDc6TGljZW5zZTI=  github_api/111online_repos.json  2021-03-04 10:24:50  \n",
       "4  MDc6TGljZW5zZTI=  github_api/111online_repos.json  2021-03-04 10:24:50  \n",
       "\n",
       "[5 rows x 100 columns]"
      ],
      "text/html": "<div>\n<style scoped>\n    .dataframe tbody tr th:only-of-type {\n        vertical-align: middle;\n    }\n\n    .dataframe tbody tr th {\n        vertical-align: top;\n    }\n\n    .dataframe thead th {\n        text-align: right;\n    }\n</style>\n<table border=\"1\" class=\"dataframe\">\n  <thead>\n    <tr style=\"text-align: right;\">\n      <th></th>\n      <th>id</th>\n      <th>node_id</th>\n      <th>name</th>\n      <th>full_name</th>\n      <th>private</th>\n      <th>html_url</th>\n      <th>description</th>\n      <th>fork</th>\n      <th>url</th>\n      <th>forks_url</th>\n      <th>...</th>\n      <th>permissions.admin</th>\n      <th>permissions.push</th>\n      <th>permissions.pull</th>\n      <th>license.key</th>\n      <th>license.name</th>\n      <th>license.spdx_id</th>\n      <th>license.url</th>\n      <th>license.node_id</th>\n      <th>file_name</th>\n      <th>file_date</th>\n    </tr>\n  </thead>\n  <tbody>\n    <tr>\n      <th>0</th>\n      <td>138751264</td>\n      <td>MDEwOlJlcG9zaXRvcnkxMzg3NTEyNjQ=</td>\n      <td>nhs111-implementation-site</td>\n      <td>111Online/nhs111-implementation-site</td>\n      <td>False</td>\n      <td>https://github.com/111Online/nhs111-implementa...</td>\n      <td>Implementation site for 111 online</td>\n      <td>False</td>\n      <td>https://api.github.com/repos/111Online/nhs111-...</td>\n      <td>https://api.github.com/repos/111Online/nhs111-...</td>\n      <td>...</td>\n      <td>False</td>\n      <td>False</td>\n      <td>True</td>\n      <td>NaN</td>\n      <td>NaN</td>\n      <td>NaN</td>\n      <td>NaN</td>\n      <td>NaN</td>\n      <td>github_api/111online_repos.json</td>\n      <td>2021-03-04 10:24:50</td>\n    </tr>\n    <tr>\n      <th>1</th>\n      <td>138753441</td>\n      <td>MDEwOlJlcG9zaXRvcnkxMzg3NTM0NDE=</td>\n      <td>web-stack</td>\n      <td>111Online/web-stack</td>\n      <td>False</td>\n      <td>https://github.com/111Online/web-stack</td>\n      <td>NHS 111 Online Product</td>\n      <td>False</td>\n      <td>https://api.github.com/repos/111Online/web-stack</td>\n      <td>https://api.github.com/repos/111Online/web-sta...</td>\n      <td>...</td>\n      <td>False</td>\n      <td>False</td>\n      <td>True</td>\n      <td>apache-2.0</td>\n      <td>Apache License 2.0</td>\n      <td>Apache-2.0</td>\n      <td>https://api.github.com/licenses/apache-2.0</td>\n      <td>MDc6TGljZW5zZTI=</td>\n      <td>github_api/111online_repos.json</td>\n      <td>2021-03-04 10:24:50</td>\n    </tr>\n    <tr>\n      <th>2</th>\n      <td>206048937</td>\n      <td>MDEwOlJlcG9zaXRvcnkyMDYwNDg5Mzc=</td>\n      <td>nhs111-domain-dos-api</td>\n      <td>111Online/nhs111-domain-dos-api</td>\n      <td>False</td>\n      <td>https://github.com/111Online/nhs111-domain-dos...</td>\n      <td>None</td>\n      <td>False</td>\n      <td>https://api.github.com/repos/111Online/nhs111-...</td>\n      <td>https://api.github.com/repos/111Online/nhs111-...</td>\n      <td>...</td>\n      <td>False</td>\n      <td>False</td>\n      <td>True</td>\n      <td>apache-2.0</td>\n      <td>Apache License 2.0</td>\n      <td>Apache-2.0</td>\n      <td>https://api.github.com/licenses/apache-2.0</td>\n      <td>MDc6TGljZW5zZTI=</td>\n      <td>github_api/111online_repos.json</td>\n      <td>2021-03-04 10:24:50</td>\n    </tr>\n    <tr>\n      <th>3</th>\n      <td>206102072</td>\n      <td>MDEwOlJlcG9zaXRvcnkyMDYxMDIwNzI=</td>\n      <td>nhs111-itk-dispatcher-api</td>\n      <td>111Online/nhs111-itk-dispatcher-api</td>\n      <td>False</td>\n      <td>https://github.com/111Online/nhs111-itk-dispat...</td>\n      <td>None</td>\n      <td>False</td>\n      <td>https://api.github.com/repos/111Online/nhs111-...</td>\n      <td>https://api.github.com/repos/111Online/nhs111-...</td>\n      <td>...</td>\n      <td>False</td>\n      <td>False</td>\n      <td>True</td>\n      <td>apache-2.0</td>\n      <td>Apache License 2.0</td>\n      <td>Apache-2.0</td>\n      <td>https://api.github.com/licenses/apache-2.0</td>\n      <td>MDc6TGljZW5zZTI=</td>\n      <td>github_api/111online_repos.json</td>\n      <td>2021-03-04 10:24:50</td>\n    </tr>\n    <tr>\n      <th>4</th>\n      <td>209029513</td>\n      <td>MDEwOlJlcG9zaXRvcnkyMDkwMjk1MTM=</td>\n      <td>nhs111-feedback-api</td>\n      <td>111Online/nhs111-feedback-api</td>\n      <td>False</td>\n      <td>https://github.com/111Online/nhs111-feedback-api</td>\n      <td>None</td>\n      <td>False</td>\n      <td>https://api.github.com/repos/111Online/nhs111-...</td>\n      <td>https://api.github.com/repos/111Online/nhs111-...</td>\n      <td>...</td>\n      <td>False</td>\n      <td>False</td>\n      <td>True</td>\n      <td>apache-2.0</td>\n      <td>Apache License 2.0</td>\n      <td>Apache-2.0</td>\n      <td>https://api.github.com/licenses/apache-2.0</td>\n      <td>MDc6TGljZW5zZTI=</td>\n      <td>github_api/111online_repos.json</td>\n      <td>2021-03-04 10:24:50</td>\n    </tr>\n  </tbody>\n</table>\n<p>5 rows × 100 columns</p>\n</div>"
     },
     "metadata": {},
     "execution_count": 43
    }
   ],
   "source": [
    "df = pd.DataFrame()\n",
    "for filename in my_filenames:\n",
    "    with open(filename) as f:\n",
    "        data = json.load(f)\n",
    "    flat_data = json_normalize(data)\n",
    "    extract_date = datetime.fromtimestamp(os.path.getmtime(filename)).strftime(\"%Y-%m-%d %H:%M:%S\")\n",
    "    flat_data = flat_data.assign(file_name = filename)\n",
    "    flat_data = flat_data.assign(file_date = extract_date)\n",
    "    df = df.append(flat_data)\n",
    "df.head()"
   ]
  },
  {
   "cell_type": "code",
   "execution_count": 47,
   "metadata": {},
   "outputs": [],
   "source": [
    "file_date = datetime.fromtimestamp(os.path.getmtime(filename)).strftime(\"%Y-%m-%d\")\n",
    "df.to_csv(r'data/github-api-output_'+file_date+'.csv')"
   ]
  }
 ]
}